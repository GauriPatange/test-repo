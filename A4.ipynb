{
  "nbformat": 4,
  "nbformat_minor": 0,
  "metadata": {
    "colab": {
      "name": "Untitled1.ipynb",
      "version": "0.3.2",
      "provenance": [],
      "include_colab_link": true
    },
    "kernelspec": {
      "name": "python3",
      "display_name": "Python 3"
    }
  },
  "cells": [
    {
      "cell_type": "markdown",
      "metadata": {
        "id": "view-in-github",
        "colab_type": "text"
      },
      "source": [
        "<a href=\"https://colab.research.google.com/github/GauriPatange/test-repo/blob/master/A4.ipynb\" target=\"_parent\"><img src=\"https://colab.research.google.com/assets/colab-badge.svg\" alt=\"Open In Colab\"/></a>"
      ]
    },
    {
      "cell_type": "markdown",
      "metadata": {
        "id": "24pi69DxXtBw",
        "colab_type": "text"
      },
      "source": [
        "The research is about face recognition using class specific linear projection. Face recognition is a topic that gives ample scope for researchers to work in various areas of engineering.  Facial recognition is the concept of biometric software that captures the facial features, collects the data, and stores those data as faceprint.(Rouse June 2019) these software uses deep learning to identify the individual. Several algorithms have already been developed. This paper has made discussion on previous methods and approaches to face recognition and also develop various pattern classification approaches. The authors have explained new approach for face recognition which is insensitive to large variation in lighting and facial expression. This approach has focused on not only intensity of the image but also the direction and number of light source of the image.\n",
        "\n",
        " The main objective of this research is to recognize face by finding linear projection of the faces from high dimensional spaces to low dimensional feature spaces which are insensitive to variation in lighting direction and facial expression using two observations. Therefore, authors have decided to choose projection directions which capture orthogonal to within-class scatter with maintaining discriminability. A decade ago, there were several methods were proposed for face recognition. \n",
        " \n",
        "Authors have compared four methods under variation in lighting and facial expression, namely as correlation, Eigenfaces, Linear subspaces, and Fisherfaces. These methods used subset of the Harvard database which contained 330 images and a databased created at Yale which contained 160 images and explained which method is providing best accuracy. Through the testing on both the databases, fisherfaces method had accuracy higher as compare to other three methods. Fisherfaces algorithm is superior to other methods in terms of separation between the classes in training process. Fisherfaces requires fewer efforts than Eigenfaces method. (Anggo & Arapu 2018) \n",
        "\n",
        "However, this paper has concluded several results. first is fisherface algorithm which is providing best result over the variation in lightening although linear subspace proved as second best algorithm. Second is that fisherface method is proven as best algorithm for handling variations in lightning and expression and linear subspace suffered when addressed with variation in facial expression. The third is when Eigenface is handling more principle components, performance was getting lower. And when first three principle components have been removed, then performance level increased and last solution this paper concluded that all methods are performing good when the image in test set is similar with the image in training set.\n"
      ]
    }
  ]
}