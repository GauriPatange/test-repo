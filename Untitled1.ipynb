{
  "nbformat": 4,
  "nbformat_minor": 0,
  "metadata": {
    "colab": {
      "name": "Untitled1.ipynb",
      "version": "0.3.2",
      "provenance": [],
      "include_colab_link": true
    },
    "kernelspec": {
      "name": "python3",
      "display_name": "Python 3"
    }
  },
  "cells": [
    {
      "cell_type": "markdown",
      "metadata": {
        "id": "view-in-github",
        "colab_type": "text"
      },
      "source": [
        "<a href=\"https://colab.research.google.com/github/GauriPatange/test-repo/blob/master/Untitled1.ipynb\" target=\"_parent\"><img src=\"https://colab.research.google.com/assets/colab-badge.svg\" alt=\"Open In Colab\"/></a>"
      ]
    },
    {
      "cell_type": "markdown",
      "metadata": {
        "id": "24pi69DxXtBw",
        "colab_type": "text"
      },
      "source": [
        "The research is about face recognition using class specific linear projection. Face recognition is a topic that gives ample scope for researchers to work in various areas of engineering.  Facial recognition is the concept of biometric software that captures the facial features, collects the data, and stores those data as faceprint.(Rouse June 2019) these software uses deep learning to identify the individual. Several algorithms have already been developed. This paper has made discussion on previous methods and approaches to face recognition and also develop various pattern classification approaches. The authors have explained new approach for face recognition which is insensitive to large variation in lighting and facial expression. This approach has focused on not only intensity of the image but also the direction and number of light source of the image.\n",
        "\n",
        " The main objective of this research is to recognize face by finding linear projection of the faces from high dimensional spaces to low dimensional feature spaces which are insensitive to variation in lighting direction and facial expression using two observations. Therefore, authors have decided to choose projection directions which capture orthogonal to within-class scatter with maintaining discriminability. A decade ago, there were several methods were proposed for face recognition. \n",
        " \n",
        "Authors have compared four methods under variation in lighting and facial expression, namely as correlation, Eigenfaces, Linear subspaces, and Fisherfaces. These methods used subset of the Harvard database which contained 330 images and a databased created at Yale which contained 160 images and explained which method is providing best accuracy. Through the testing on both the databases, fisherfaces method had accuracy higher as compare to other three methods. Fisherfaces algorithm is superior to other methods in terms of separation between the classes in training process. Fisherfaces requires fewer efforts than Eigenfaces method. (Anggo & Arapu 2018) \n",
        "\n",
        "However, this paper has concluded several results. first is fisherface algorithm which is providing best result over the variation in lightening although linear subspace proved as second best algorithm. Second is that fisherface method is proven as best algorithm for handling variations in lightning and expression and linear subspace suffered when addressed with variation in facial expression. The third is when Eigenface is handling more principle components, performance was getting lower. And when first three principle components have been removed, then performance level increased and last solution this paper concluded that all methods are performing good when the image in test set is similar with the image in training set.\n"
      ]
    },
    {
      "cell_type": "markdown",
      "metadata": {
        "id": "hDxm3y2HYCtR",
        "colab_type": "text"
      },
      "source": [
        "Face recognition is very important concept which can help us to recognize and also allow us to identify people who we don’t know about. Face recognition is a complex process, and now it is part of machine learning.  In the decade ago, many algorithms have been proposed but under the small variation in lightning and facial expressions. Thought, implementation has not reported also it has said that the method can be applied for facial recognition.\n",
        "\n",
        "The main objective of this research is to recognize an image by using linear projection from the high dimensional image space to low dimensional image space which is insensitive to variation in lightning direction as well as to facial expression. Therefore, Authors explained four methods namely as correlation, Eigenface, Linear subspace, and Fisherfaces method and compared which method is giving more accuracy than other methods and producing more reliable result for reducing dimensionality of feature space.\n",
        "\n",
        "In the first method, i.e. correlation method, nearest neighbor classifier is used where data of the image is labelled with closest data of the learning point where distance was measured. But this method requires more data storage and bit expensive. this problem overcomes eigenface method. In eigenface, principle component analysis(PCA) technique is used which is also called as Karhunen-loeve method. This method selects dimensionality reducing linear projection which maximizes scatter of all projected data(Ansari 2016). but disadvantage of this method is that it maximizes the scatter point due in both the classes, i.e. between-class scatter and within-class scatter. In the linear subspace method, it computes distance of new image with each subspace and identifies which face is corresponding to shorted distance. But this method has drawback of storage as in this method it needs three images to keep for each person. Fisherface method overcomes all the disadvantage of other methods. Fisherface method uses Fisher Linear Discriminant(FLD) technique which helps to reduce dimensionality where it maximizes between-class scatter and minimizes within class scatter.(Anggo & Arapu 2018) Fisherfaces avoid the problem of singular vector by acquiring image set to lower dimensional space so that result becomes singular.\n",
        "\n",
        "Apart from this four method, Author implemented four method with two databases and experimented these methods with three different factors of the face such as variation in lightning, variation in facial expression, eyewear, and lightning and glasses recognition. Through this experiment, author concluded that fisherface method is resulting low error rate and giving more accuracy than eigenface method.  \n"
      ]
    },
    {
      "cell_type": "markdown",
      "metadata": {
        "id": "wwR3uQ0IYAEg",
        "colab_type": "text"
      },
      "source": [
        ""
      ]
    }
  ]
}