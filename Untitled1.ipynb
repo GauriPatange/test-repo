{
  "nbformat": 4,
  "nbformat_minor": 0,
  "metadata": {
    "colab": {
      "name": "Untitled1.ipynb",
      "version": "0.3.2",
      "provenance": [],
      "collapsed_sections": [],
      "include_colab_link": true
    },
    "kernelspec": {
      "name": "python3",
      "display_name": "Python 3"
    }
  },
  "cells": [
    {
      "cell_type": "markdown",
      "metadata": {
        "id": "view-in-github",
        "colab_type": "text"
      },
      "source": [
        "<a href=\"https://colab.research.google.com/github/GauriPatange/test-repo/blob/master/Untitled1.ipynb\" target=\"_parent\"><img src=\"https://colab.research.google.com/assets/colab-badge.svg\" alt=\"Open In Colab\"/></a>"
      ]
    },
    {
      "cell_type": "markdown",
      "metadata": {
        "id": "e3MWCmE7Zqvu",
        "colab_type": "text"
      },
      "source": [
        "##Introduction\n",
        "The paper which I chose is Eigenfaces vs. Fisherfaces: Recognition Using Class Specific Linear Projection. The authors of this paper are Peter N. Belhumeur, Joao P. Hespanha, and David J. Kriegman. This paper is the IEEE paper published in year of 1997. The reason for choosing this topic is that I wanted to choose the topic which I could relate the most where I know more information about it, and I can write much about it. When looking at the topics provided by the professor, this one paper jumped out at me as face recognition is very popular and rapidly growing area in today’s world.  This paper has researched information on facial recognition using class specific linear projection. Various algorithms/methods have explained which is insensitive to large variation in lighting direction and facial expression. \n",
        "\n",
        "This report has explained ‘Eigenfaces vs. Fisherfaces: Recognition Using Class Specific Linear Projection’ paper. This report structured with different aspects, namely as contents, innovation, technical quality and x-factor of the article where main key challenges, innovation, technical quality, and application domain of this research paper has explained.\n",
        "\n"
      ]
    },
    {
      "cell_type": "markdown",
      "metadata": {
        "id": "24pi69DxXtBw",
        "colab_type": "text"
      },
      "source": [
        "##Content\n",
        "The research is about face recognition using class specific linear projection. Face recognition is a topic that gives ample scope for researchers to work in various areas of engineering.  Facial recognition is the concept of biometric software that captures the facial features, collects the data, and stores those data as faceprint.(Rouse June 2019) these software uses deep learning to identify the individual. Several algorithms have already been developed. This paper has made discussion on previous methods and approaches to face recognition and also develop various pattern classification approaches. The authors have explained new approach for face recognition which is insensitive to large variation in lighting and facial expression. This approach has focused on not only intensity of the image but also the direction and number of light source of the image.\n",
        "\n",
        " The main objective of this research is to recognize face by finding linear projection of the faces from high dimensional spaces to low dimensional feature spaces which are insensitive to variation in lighting direction and facial expression using two observations. Therefore, authors have decided to choose projection directions which capture orthogonal to within-class scatter with maintaining discriminability. A decade ago, there were several methods were proposed for face recognition. \n",
        " \n",
        "Authors have compared four methods under variation in lighting and facial expression, namely as correlation, Eigenfaces, Linear subspaces, and Fisherfaces. These methods used subset of the Harvard database which contained 330 images and a databased created at Yale which contained 160 images and explained which method is providing best accuracy. Through the testing on both the databases, fisherfaces method had accuracy higher as compare to other three methods. Fisherfaces algorithm is superior to other methods in terms of separation between the classes in training process. Fisherfaces requires fewer efforts than Eigenfaces method. (Anggo & Arapu 2018) \n",
        "\n",
        "However, this paper has concluded several results. first is fisherface algorithm which is providing best result over the variation in lightening although linear subspace proved as second best algorithm. Second is that fisherface method is proven as best algorithm for handling variations in lightning and expression and linear subspace suffered when addressed with variation in facial expression. The third is when Eigenface is handling more principle components, performance was getting lower. And when first three principle components have been removed, then performance level increased and last solution this paper concluded that all methods are performing good when the image in test set is similar with the image in training set.\n"
      ]
    },
    {
      "cell_type": "markdown",
      "metadata": {
        "id": "hDxm3y2HYCtR",
        "colab_type": "text"
      },
      "source": [
        "\n",
        "##Innovation\n",
        "Face recognition is very important concept which can help us to recognize and also allow us to identify people who we don’t know about. Face recognition is a complex process, and now it is part of machine learning.  In the decade ago, many algorithms have been proposed but under the small variation in lightning and facial expressions. Thought, implementation has not reported also it has said that the method can be applied for facial recognition.\n",
        "\n",
        "The main objective of this research is to recognize an image by using linear projection from the high dimensional image space to low dimensional image space which is insensitive to variation in lightning direction as well as to facial expression. Therefore, Authors explained four methods namely as correlation, Eigenface, Linear subspace, and Fisherfaces method and compared which method is giving more accuracy than other methods and producing more reliable result for reducing dimensionality of feature space.\n",
        "\n",
        "In the first method, i.e. correlation method, nearest neighbor classifier is used where data of the image is labelled with closest data of the learning point where distance was measured. But this method requires more data storage and bit expensive. this problem overcomes eigenface method. In eigenface, principle component analysis(PCA) technique is used which is also called as Karhunen-loeve method. This method selects dimensionality reducing linear projection which maximizes scatter of all projected data(Ansari 2016). but disadvantage of this method is that it maximizes the scatter point due in both the classes, i.e. between-class scatter and within-class scatter. In the linear subspace method, it computes distance of new image with each subspace and identifies which face is corresponding to shorted distance. But this method has drawback of storage as in this method it needs three images to keep for each person. Fisherface method overcomes all the disadvantage of other methods. Fisherface method uses Fisher Linear Discriminant(FLD) technique which helps to reduce dimensionality where it maximizes between-class scatter and minimizes within class scatter.(Anggo & Arapu 2018) Fisherfaces avoid the problem of singular vector by acquiring image set to lower dimensional space so that result becomes singular.\n",
        "\n",
        "Apart from this four method, Author implemented four method with two databases and experimented these methods with three different factors of the face such as variation in lightning, variation in facial expression, eyewear, and lightning and glasses recognition. Through this experiment, author concluded that fisherface method is resulting low error rate and giving more accuracy than eigenface method.  \n"
      ]
    },
    {
      "cell_type": "markdown",
      "metadata": {
        "id": "wwR3uQ0IYAEg",
        "colab_type": "text"
      },
      "source": [
        "## Technical Quality\n",
        "Summarizing the research paper is nothing but providing technical knowledge and complete overview of the topic that is published in peer-reviewed or any other sources. With respect to the technical quality of this paper, I felt that this paper is moderately good. I can’t say highly good because methods are not clearly explained. The authors described all the work, explained all the methods one by one and compared all the methods with each other. But they didn’t clarify each method in depth. comparison between two methods was made, even data classification was shown by using diagram representation, but the clarification with the equation and how calculation happened and how solution came was missing. This paper could be more technically good if calculation of the samples with respect to the equation was explained in deep. Moreover, this paper hasn’t cleared the problem in the introduction part explaining what problem this paper seeks to resolve. As considering technical quality of the paper, many more methods can be used to solve the solution of the problem.  \n"
      ]
    },
    {
      "cell_type": "markdown",
      "metadata": {
        "id": "o3a_lOBKYmR6",
        "colab_type": "text"
      },
      "source": [
        "##Application and X-factor\n",
        "In this paper, authors have proposed new approach for face recognition. I think the proposed new approach is appropriate for the area of face recognition under the illumination condition. The thing I liked about this paper is that author experiment the algorithms with two different databases, which are containing two different samples of data. in the Harvard database, the data was about lighting of the face and Yale constructed database was containing about data of facial expression and lighting. Using subsets of image, this paper tested relative performance of the considered algorithm. In the Harvard database, two experiments performed called interpolation and interpolation. In the interpolation experiment algorithm trained on subset 1 and 5 and then tested on subset 2,3 and 4 whereas, in extrapolation, subset 1 was trained and tested on rest subset 1, 2 and 3.  That dataset is very complicated and difficult and time-consuming. They tried to propose a successful method by which they reduced the time consumption and complexity of the problem. \n"
      ]
    },
    {
      "cell_type": "markdown",
      "metadata": {
        "id": "NgdeXtWSYqpS",
        "colab_type": "text"
      },
      "source": [
        "##Presentation\n",
        "The overall structure of this paper is clear but could have been better if the paper was more focused on more clarification of the methods. I found difficulty when this paper comes to calculation of the sample data of eigenface method and fisherface method. According to the topic of this paper, the focus on comparison between eigenface and fisherface was not deeply explained. some concepts are explained and clearly explained using diagrammatic representation. Moreover, this paper didn’t come up with proper solution. The authors are still in research to find out best method under all position illumination conditions. Overall topic and data are interesting; theorizing can be improved. The most important work appears to be in the data attrition and data analysis."
      ]
    }
  ]
}