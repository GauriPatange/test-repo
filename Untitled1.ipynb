{
  "nbformat": 4,
  "nbformat_minor": 0,
  "metadata": {
    "colab": {
      "name": "Untitled1.ipynb",
      "provenance": [],
      "collapsed_sections": [],
      "include_colab_link": true
    },
    "kernelspec": {
      "name": "python3",
      "display_name": "Python 3"
    }
  },
  "cells": [
    {
      "cell_type": "markdown",
      "metadata": {
        "id": "view-in-github",
        "colab_type": "text"
      },
      "source": [
        "<a href=\"https://colab.research.google.com/github/GauriPatange/test-repo/blob/master/Untitled1.ipynb\" target=\"_parent\"><img src=\"https://colab.research.google.com/assets/colab-badge.svg\" alt=\"Open In Colab\"/></a>"
      ]
    },
    {
      "cell_type": "markdown",
      "metadata": {
        "id": "_Y1E0RS5QTeZ",
        "colab_type": "text"
      },
      "source": [
        "# INTRODUCTION\n",
        "\n",
        "Nowadays, every person has credit card through which anywhere they can spend money. Starting in 1980, there has been drastic increment of credit card, debit card use. Credit card is nothing, but a small plastic card provided or issued by bank which help to purchase goods and services on credit. In many countries, the use of credit card is massive which leading to misuse the details of credit card. With this many frauds are happening in many countries. Credit card fraud is a wide term use for theft committed using or involving a payment card. Fraud detection of card starts with either theft or the data associated with account such as card number, or other information that necessarily available during the transaction. Through this project we are trying to solve the problem that many companies are facing today. \n",
        "\n",
        "The idea of this project is to recognize fraudulent credit card transactions so that customers are not charged for items that they did not purchase. So, to solve this problem, we have taken the huge dataset of Europe country which contain transaction made by credit cards in September 2013.The dataset is highly unbalanced where it presents transaction that occurred in two days. In 2 days of transactions, many frauds were happened. The main aim of this project is to identify fraudulent credit card transactions.  \n",
        "\n",
        "How this credit card fraud happens? When user give their credit card details including credit card number, their CVV to unfamiliar or unknown person, when card is stolen or lost or when mail is diverted from recipient and taken by criminal.\n",
        "\n",
        "There are 11 most common forms of credit card fraud\n",
        "1.\tApplication fraud\n",
        "2.\tManual credit card imprints\n",
        "3.\tCNP (Card not present) Fraud\n",
        "4.\tCounterfeit Card Fraud\n",
        "5.\tLost or stolen card fraud\n",
        "6.\tCard ID theft\n",
        "7.\tMail Non-Receipt card fraud\n",
        "8.\tAssumed Identity\n",
        "9.\tFake Cards\n",
        "10.\tDoctored Cards\n",
        "11.\tAccount takeover \n",
        "\n"
      ]
    },
    {
      "cell_type": "markdown",
      "metadata": {
        "id": "m3h8OnIkRNVe",
        "colab_type": "text"
      },
      "source": [
        "# EXPLORATION\n",
        "\n",
        "## DATA SOURCE\n",
        "\n",
        "In this report, we tried to identify fraudulent data in the credit card transaction. So, firstly, we searched suitable dataset in the Kaggle which consists transaction of two days. The dataset found in the Kaggle which has 31 columns. Dataset is made by credit card transaction in September 2013 by European cardholder. This dataset has 492 frauds out of 284,807 transactions. \n",
        "\n",
        "\n",
        "\n"
      ]
    },
    {
      "cell_type": "markdown",
      "metadata": {
        "id": "knHDfRo1RmCW",
        "colab_type": "text"
      },
      "source": [
        "## DATA DESCRIPTION\n",
        "\n",
        "* **‘Class’** is the target value, and it has a binary value can have either zero or one. In which zero refers to not fraud and one to fraud. \n",
        "\n",
        "* **‘Amount’** is the amount of transaction. \n",
        "\n",
        "* **‘Time’** is the time of the transaction. \n",
        "\n",
        "* The rest of the attributes are noted as **‘V1 to V28’** and these features are anonymized. \n",
        "\n",
        "*\tthe data is highly unbalanced concerning the Class variables. \n",
        "\n",
        "*\tThere consists only 0.172% of rows which has class =1. In this case, we identified to preserve the data unbalancing or oversampling which consists data with minority value of target data otherwise under sampling where the data with majority value of targeted value. \n",
        "\n",
        "<figure>\n",
        "<center>\n",
        "<img src= 'https://drive.google.com/uc?id=16f_ZnaNaKnfsAcXWynVYtRo3HkipDMus'/>\n",
        "<figcaption> Figure 1. fraudulent credit card transactions</figcaption></center>\n",
        "</figure>\n",
        "\n"
      ]
    },
    {
      "cell_type": "markdown",
      "metadata": {
        "id": "TSvkGb-cYNXj",
        "colab_type": "text"
      },
      "source": [
        "# METHODOLOGY\n",
        "\n",
        "In this report, we chose random Forest is an ensemble algorithm as a classifier which is used to build predictive models for both regression and classification. In Random forest algorithm, the model creates a forest of uncorrelated decision trees. Then it combines those trees to improve the performance of the training dataset randomly. This approach will improve the prediction of accuracy. Random Forest utilizes a bootstrapping algorithm in which decision tree will be trained with different data subsamples.\n",
        "\n",
        "<figure>\n",
        "<center>\n",
        "<img src= 'https://drive.google.com/uc?id=1sv-HTqtVNkQ1LS02YW0rwuZBKLKd5cqc'/>\n",
        "<figcaption> Figure 2. Spliting process of data into test set and training set  </figcaption></center>\n",
        "</figure>\n",
        "\n",
        "\n",
        "\n",
        "Random subset features are used in the Random Forest. Considering an example of 50 features in the data, random forest itself chooses a set of attributes of them let us take 10 to train each tree. Thus, each tree will train 10   random features. This will be used in training to find the best split of each node tree. After having the set of decision tree as shown in the figure below, the result of each tree will be combined to get final outcome. This phase is technically termed as vote. Here multiple decision tree is used to train with different subset and to make decisions. \n",
        "\n",
        "<figure>\n",
        "<center>\n",
        "<img src= 'https://drive.google.com/uc?id=198uI_UDaXf9P45g_XOgVvDGHzh6eStHH'/>\n",
        "<figcaption> Figure 3. Process of Random Forest Algorithm </figcaption></center>\n",
        "</figure>\n"
      ]
    }
  ]
}